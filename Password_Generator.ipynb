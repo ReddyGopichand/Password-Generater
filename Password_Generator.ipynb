{
  "nbformat": 4,
  "nbformat_minor": 0,
  "metadata": {
    "colab": {
      "provenance": []
    },
    "kernelspec": {
      "name": "python3",
      "display_name": "Python 3"
    },
    "language_info": {
      "name": "python"
    }
  },
  "cells": [
    {
      "cell_type": "markdown",
      "source": [
        "# **Password Generater**"
      ],
      "metadata": {
        "id": "pw45uaNtlMxq"
      }
    },
    {
      "cell_type": "code",
      "execution_count": 2,
      "metadata": {
        "colab": {
          "base_uri": "https://localhost:8080/"
        },
        "id": "Kzi3-ScikJRi",
        "outputId": "0a89d3d2-dca1-4a42-c267-6bbb67cedc1b"
      },
      "outputs": [
        {
          "output_type": "stream",
          "name": "stdout",
          "text": [
            "Enter length of password:- 20\n",
            "OprdjyWUc&S1m/.{z[L%\n"
          ]
        }
      ],
      "source": [
        "import random\n",
        "import string\n",
        "\n",
        "def generate_password(length: int) -> str:\n",
        "    \"\"\"\n",
        "    Generate a random password with the specified length.\n",
        "    \n",
        "    Parameters:\n",
        "    length (int): The length of the password to generate.\n",
        "    \n",
        "    Returns:\n",
        "    str: The generated password.\n",
        "    \"\"\"\n",
        "    # Choose random characters from the following sets:\n",
        "    # - ascii_letters: Upper and lowercase letters (A-Z, a-z)\n",
        "    # - digits: Digits (0-9)\n",
        "    # - punctuation: Punctuation characters\n",
        "    characters = string.ascii_letters + string.digits + string.punctuation\n",
        "    \n",
        "    # Use random.sample to choose `length` characters randomly\n",
        "    password = ''.join(random.sample(characters, length))\n",
        "    \n",
        "    return password\n",
        "\n",
        "# Example usage\n",
        "password_length=int(input(\"Enter length of password:- \"))\n",
        "password = generate_password(password_length)\n",
        "print(password)\n",
        "\n"
      ]
    }
  ]
}